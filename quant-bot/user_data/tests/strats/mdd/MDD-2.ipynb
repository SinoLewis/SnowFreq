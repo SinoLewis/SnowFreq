{
 "cells": [
  {
   "cell_type": "markdown",
   "metadata": {},
   "source": [
    "# 0. How to Calculate Maximum Drawdown ?\n",
    "\n",
    "Calculating a drawdown:\n",
    "\n",
    "1) Take a return series and covert it to a wealth-index. A wealth index is just investing in an asset and hold it for a given period. Just invest and hold. Now for the time that you hold an asset, its value goes up and down and again up and so on. A drawdown is from the peak to the trough at any given point in time, the time for which you’re holding that particular asset for.\n",
    "\n",
    "2) The next step is to compute the peaks, the previous peaks. We do this to keep track of the highest value our asset had since the time we invested in it. And since we are holding it, then again the market falls and its value reduces but our previous peak remains the same, now this difference between the peak value and any value that the asset possesses at any given point in time before we encounter another peak greater than the previous peak is what is known as the drawdown. (Image Below — The distance between the green and the blue lines is what we just said is our drawdown.)\n",
    "\n",
    "Example of Maximum Drawdown:\n",
    "\n",
    "Assume an investment portfolio has an initial value of $500,000. The portfolio increases to $750,000 over a period of time, before plunging to $400,000 in a ferocious bear market. It then rebounds to $600,000, before dropping again to $350,000.\n",
    "\n",
    "Calculation of Maximum Drawdown :\n",
    "\n",
    "The maximum drawdown in this case is\n",
    "\n",
    "($350,000-$750000/$750,000) * 100 = -53.33%\n",
    "\n",
    "For the above example , the peak appears at $750,000 and the trough appears at $350,000 . So, the Maximum Drawdown for the above time span is -53.33% ."
   ]
  },
  {
   "cell_type": "code",
   "execution_count": null,
   "metadata": {},
   "outputs": [],
   "source": [
    "def calc_mdd(df, window=252, periods=1):\n",
    "    Roll_max = df['close'].rolling(window, min_periods=periods).max()\n",
    "    Daily_drawdown = df['close'] / Roll_max - periods\n",
    "\n",
    "    Max_Daily_drawdown = Daily_drawdown.rolling(window, min_periods=periods).min()\n",
    "\n",
    "    return Max_Daily_drawdown"
   ]
  }
 ],
 "metadata": {
  "kernelspec": {
   "display_name": "Python 3",
   "language": "python",
   "name": "python3"
  },
  "language_info": {
   "name": "python",
   "version": "3.12.1"
  }
 },
 "nbformat": 4,
 "nbformat_minor": 2
}
