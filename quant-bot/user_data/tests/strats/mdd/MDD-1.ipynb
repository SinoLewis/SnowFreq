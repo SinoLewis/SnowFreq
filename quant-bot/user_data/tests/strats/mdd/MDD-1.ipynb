{
 "cells": [
  {
   "cell_type": "markdown",
   "metadata": {},
   "source": [
    "# 1. First thing to do: Import the required libraries."
   ]
  },
  {
   "cell_type": "code",
   "execution_count": null,
   "metadata": {},
   "outputs": [],
   "source": [
    "import warnings\n",
    "warnings.filterwarnings('ignore')\n",
    "\n",
    "import yfinance as yf  #Yahoo Finance\n",
    "import datetime\n",
    "import pandas as pd\n",
    "import matplotlib.pyplot as plt"
   ]
  },
  {
   "cell_type": "markdown",
   "metadata": {},
   "source": [
    "# 2. Get an specific ticker"
   ]
  },
  {
   "cell_type": "code",
   "execution_count": null,
   "metadata": {},
   "outputs": [],
   "source": [
    "#ASSET\n",
    "ticker = 'AAPL'\n",
    "my_ticker = yf.Ticker(ticker)\n",
    "\n",
    "start_date = datetime.datetime(1990, 12, 31)\n",
    "end_date = datetime.datetime(2024, 2, 29)\n",
    "\n",
    "prices_hist = my_ticker.history(start=start_date,end=end_date)\n",
    "prices_hist"
   ]
  },
  {
   "cell_type": "markdown",
   "metadata": {},
   "source": [
    "# 3. Express the dividend as a nominal return\n",
    "\n",
    "- The next step is to calculte the dividend as a percentage. That can be done easily dividing the dividends by the closing price. \n",
    "- That can be interpreted as an extra return that is paid in that moment. \n",
    "\n",
    "*For example*, you can see that Apple stock paid USD 0.24 on november 11th 2023. The closing price of the stock was 186.162445, which mean that the dividends represent a nominal return of 0.1289%."
   ]
  },
  {
   "cell_type": "code",
   "execution_count": null,
   "metadata": {},
   "outputs": [],
   "source": [
    "prices_hist['Perc_Dividends']=prices_hist['Dividends']/prices_hist['Close']\n",
    "prices_hist.loc[prices_hist['Perc_Dividends']!=0]"
   ]
  },
  {
   "cell_type": "markdown",
   "metadata": {},
   "source": [
    "# 4. Calculate the total return for each date\n",
    "\n",
    "- To calculate the total return for each date we can simply add the dividend’s return plus the price return. \n",
    "- We will also assign a «zero» to the first row, since we don’t have a previous price to calculate a return."
   ]
  },
  {
   "cell_type": "code",
   "execution_count": null,
   "metadata": {},
   "outputs": [],
   "source": [
    "prices_hist['Return'] = prices_hist['Close']/ prices_hist['Close'].shift(1)-1+prices_hist['Perc_Dividends']\n",
    "prices_hist['Return'].iloc[0] = 0\n",
    "prices_hist"
   ]
  },
  {
   "cell_type": "markdown",
   "metadata": {},
   "source": [
    "# 5. Calculate the cumulative total return\n",
    "\n",
    "- Then we can use the function cumprod(). We can use it on the whole DataFrame applying the function on the quantity (1+ ‘Return’). \n",
    "- If you want to understand in greater detail how to perform these calculations, you can look at our course Introductory Data Science for Investing and Trading. "
   ]
  },
  {
   "cell_type": "code",
   "execution_count": null,
   "metadata": {},
   "outputs": [],
   "source": [
    "prices_hist['Cum_Return']=(1 + prices_hist['Return']).cumprod() - 1\n",
    "prices_hist"
   ]
  },
  {
   "cell_type": "markdown",
   "metadata": {},
   "source": [
    "# 6. Calculate a new quantity known as Wealth Index\n",
    "\n",
    "This quantity is basically how an initial investment of USD100 has evolved throughout the years:"
   ]
  },
  {
   "cell_type": "code",
   "execution_count": null,
   "metadata": {},
   "outputs": [],
   "source": [
    "prices_hist['Wealth_Index']=100*(1 + prices_hist['Cum_Return'])\n",
    "prices_hist"
   ]
  },
  {
   "cell_type": "markdown",
   "metadata": {},
   "source": [
    "#. 7. Calculate a new quantity known as Previous Peak\n",
    "\n",
    "This quantity tracks the maximum from previous periods. If you get a new maximum, the previous maximum ceases to exists from that point in time and is replaced by each new maximum:"
   ]
  },
  {
   "cell_type": "code",
   "execution_count": null,
   "metadata": {},
   "outputs": [],
   "source": [
    "prices_hist['Prev_Peak']=prices_hist['Wealth_Index'].cummax()\n",
    "prices_hist"
   ]
  },
  {
   "cell_type": "markdown",
   "metadata": {},
   "source": [
    "# 7. Calculate the Maximum Drawdown\n",
    "\n",
    "- Maximum drawdown is basically the negative return you get from the actual wealth index when you compared it to the previous peak. \n",
    "- If you are at a new maximum this quantity will be zero. Otherwise you will get a negative number. \n",
    "- Maximum drawdown shows how much of your investment you would have lost if you have a long position in an asset and you didn’t liquidate it."
   ]
  },
  {
   "cell_type": "code",
   "execution_count": null,
   "metadata": {},
   "outputs": [],
   "source": [
    "prices_hist['Max_Drawdown']= (prices_hist['Wealth_Index']-prices_hist['Prev_Peak'])/prices_hist['Prev_Peak']\n",
    "prices_hist"
   ]
  },
  {
   "cell_type": "markdown",
   "metadata": {},
   "source": [
    "# 8. Chart of Maximum Drawdown\n",
    "\n",
    "This is a very simple chart of the maximum drawdown. We show how to make nicer plots in other notebooks. For example, take a look here. "
   ]
  },
  {
   "cell_type": "code",
   "execution_count": null,
   "metadata": {},
   "outputs": [],
   "source": [
    "plt.plot(prices_hist['Max_Drawdown'])\n",
    "plt.show()"
   ]
  }
 ],
 "metadata": {
  "kernelspec": {
   "display_name": "Python 3",
   "language": "python",
   "name": "python3"
  },
  "language_info": {
   "name": "python",
   "version": "3.12.1"
  }
 },
 "nbformat": 4,
 "nbformat_minor": 2
}
