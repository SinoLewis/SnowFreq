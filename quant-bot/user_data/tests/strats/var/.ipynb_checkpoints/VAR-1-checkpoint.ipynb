{
 "cells": [
  {
   "cell_type": "code",
   "execution_count": null,
   "id": "d1c317cd-aaee-4ab2-b99e-2553bd3794ca",
   "metadata": {},
   "outputs": [],
   "source": [
    "import numpy as np\n",
    "import pandas as pd\n",
    "import yfinance as yf\n",
    "import matplotlib.pyplot as plt\n",
    "\n",
    "# Fetch historical data for a stock\n",
    "data = yf.download(\"AAPL\", start=\"2020-01-01\", end=\"2023-01-01\")\n",
    "returns = data['Adj Close'].pct_change().dropna()\n",
    "\n",
    "# Calculate the historical VaR at 95% confidence level\n",
    "confidence_level = 0.95\n",
    "VaR_historical = np.percentile(returns, (1 - confidence_level) * 100)\n",
    "\n",
    "print(f\"Historical VaR (95% confidence level): {VaR_historical:.2%}\")\n",
    "\n",
    "# Plot the historical returns and VaR threshold\n",
    "plt.figure(figsize=(10, 6))\n",
    "plt.hist(returns, bins=50, alpha=0.75, color='blue', edgecolor='black')\n",
    "plt.axvline(VaR_historical, color='red', linestyle='--', label=f'VaR (95%): {VaR_historical:.2%}')\n",
    "plt.title('Historical Returns of AAPL')\n",
    "plt.xlabel('Returns')\n",
    "plt.ylabel('Frequency')\n",
    "plt.legend()\n",
    "plt.show()"
   ]
  }
 ],
 "metadata": {
  "kernelspec": {
   "display_name": "Python 3 (ipykernel)",
   "language": "python",
   "name": "python3"
  },
  "language_info": {
   "codemirror_mode": {
    "name": "ipython",
    "version": 3
   },
   "file_extension": ".py",
   "mimetype": "text/x-python",
   "name": "python",
   "nbconvert_exporter": "python",
   "pygments_lexer": "ipython3",
   "version": "3.12.1"
  }
 },
 "nbformat": 4,
 "nbformat_minor": 5
}
