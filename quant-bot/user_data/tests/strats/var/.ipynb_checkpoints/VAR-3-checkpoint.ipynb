{
 "cells": [
  {
   "cell_type": "markdown",
   "id": "3699faa3-ad6f-4dfb-8be6-f8c3c8613ab9",
   "metadata": {},
   "source": [
    "## 1. Importing required libraries"
   ]
  },
  {
   "cell_type": "code",
   "execution_count": null,
   "id": "ecb96bfd-2309-4a58-a28f-e98b2b9033f1",
   "metadata": {},
   "outputs": [],
   "source": [
    "!pip install matplotlib pandas_datareader ffn np pd plotly yfinance"
   ]
  },
  {
   "cell_type": "code",
   "execution_count": null,
   "id": "be9e2956-f940-4630-91ea-2a66cc98fac1",
   "metadata": {},
   "outputs": [],
   "source": [
    "import numpy as np\n",
    "# %matplotlib inline\n",
    "import pandas as pd\n",
    "import matplotlib.pyplot as plt\n",
    "import pandas_datareader as pdr\n",
    "import datetime\n",
    "import pandas_datareader.data as web\n",
    "import ffn\n",
    "import plotly.express as px\n",
    "import yfinance as yf"
   ]
  },
  {
   "cell_type": "markdown",
   "id": "f9bf3ea7-971f-4380-93cf-beeb7c341589",
   "metadata": {},
   "source": [
    "## 2. Getting stock data using yahoo finance\n",
    "\n",
    "I have considered top 5 NSE listed indian stocks"
   ]
  },
  {
   "cell_type": "code",
   "execution_count": null,
   "id": "11de18e3-e8fe-46e1-9095-fe5390c1a942",
   "metadata": {},
   "outputs": [],
   "source": [
    "\n",
    "tickers=['RELIANCE.NS','ITC.NS','IRCTC.NS','TATAMOTORS.NS','INFY.NS']\n",
    "weights= np.array([0.2,0.2,0.2,0.2,0.2])\n",
    "start= dt.datetime(2020,1,1)\n",
    "end= dt.datetime.now()\n",
    "data= yf.download(tickers, start, end)['Adj Close']data"
   ]
  },
  {
   "cell_type": "markdown",
   "id": "a960604d-a8e5-40d6-a43a-15b6e7d9dde1",
   "metadata": {},
   "source": [
    "## 3. Plotting the portfolio adjusted price \n",
    "\n",
    "Price which is adjusted after paying portion of dividend"
   ]
  },
  {
   "cell_type": "code",
   "execution_count": null,
   "id": "843c3688-f948-4cdf-a607-d1665acd4008",
   "metadata": {},
   "outputs": [],
   "source": [
    "import plotly.express as px\n",
    "px.line(data)"
   ]
  },
  {
   "cell_type": "markdown",
   "id": "91cb3515-1792-4241-b835-de278cfee532",
   "metadata": {},
   "source": [
    "## 4. Calculate the returns"
   ]
  },
  {
   "cell_type": "code",
   "execution_count": null,
   "id": "803c6df4-5930-44f7-86b6-5b308c87a244",
   "metadata": {},
   "outputs": [],
   "source": [
    "returns= data.pct_change()\n",
    "returns"
   ]
  },
  {
   "cell_type": "markdown",
   "id": "3771f1ba-5513-4800-ba89-2b20cd92f7cb",
   "metadata": {},
   "source": [
    "## 5. Plotting the returns in a single graph"
   ]
  },
  {
   "cell_type": "code",
   "execution_count": null,
   "id": "e26ac12a-bca3-4533-b165-72e6f645a790",
   "metadata": {},
   "outputs": [],
   "source": [
    "px.line(returns)"
   ]
  },
  {
   "cell_type": "markdown",
   "id": "af084be7-472e-4a9c-ab94-98250c761b62",
   "metadata": {},
   "source": [
    "## 6. Multiply the portfolio weights with the stock returns"
   ]
  },
  {
   "cell_type": "code",
   "execution_count": null,
   "id": "84844ba7-3dc9-4d34-a003-0a487d75806e",
   "metadata": {},
   "outputs": [],
   "source": [
    "weighted_returns_portfolio = returns.mul(weights,axis=1)\n",
    "weighted_returns_portfolio"
   ]
  },
  {
   "cell_type": "markdown",
   "id": "a73df0c5-6cdb-46bf-b70c-50ff6e4708f1",
   "metadata": {},
   "source": [
    "## 7. Convert returns to percentages and drop the missing values"
   ]
  },
  {
   "cell_type": "code",
   "execution_count": null,
   "id": "5d16e1d5-ce71-4dd4-8766-b324b611b37c",
   "metadata": {},
   "outputs": [],
   "source": [
    "returns['Portfolio'] = weighted_returns_portfolio.sum(axis=1).dropna()\n",
    "returns['Portfolio'] = returns['Portfolio'] * 100"
   ]
  },
  {
   "cell_type": "markdown",
   "id": "c3a6f4a3-228f-4cfe-948a-db40be0aed7a",
   "metadata": {},
   "source": [
    "## 8. Calculate the VaR95"
   ]
  },
  {
   "cell_type": "code",
   "execution_count": null,
   "id": "e737249d-1168-4092-a0e4-714d2285e6d2",
   "metadata": {
    "jp-MarkdownHeadingCollapsed": true
   },
   "outputs": [],
   "source": [
    "var95 = np.percentile(returns['Portfolio'], 5)\n",
    "var95\n",
    "## >> -2.3500989269352353 "
   ]
  },
  {
   "cell_type": "markdown",
   "id": "0f4b9e9c-ef70-4d3c-91bd-f034eb964b9f",
   "metadata": {
    "jp-MarkdownHeadingCollapsed": true
   },
   "source": [
    "Based on the historical returns of the portfolio at a 95% confidence interval, the worst loss is a 2.35% loss, therefore the result is negative."
   ]
  },
  {
   "cell_type": "markdown",
   "id": "26e481a1-eaa7-4870-bcc8-c9c59bd080d5",
   "metadata": {},
   "source": [
    "## 9. Historical VaR(99\n",
    "\n",
    "For computing the Historical VaR at a 99% confidence level the only change that has to be done is in the last part of the script, changing the np. percentile to 1, which means the 1%.\n"
   ]
  },
  {
   "cell_type": "code",
   "execution_count": null,
   "id": "f91cd93d-c05b-40ce-886b-17c6b77605ad",
   "metadata": {},
   "outputs": [],
   "source": [
    "var99=np.percentile(returns['Portfolio'], 1)\n",
    "var99\n",
    "## >> -5.1491154122862515"
   ]
  },
  {
   "cell_type": "markdown",
   "id": "e3e7d4ee-6dcb-4891-94d6-c89330414c07",
   "metadata": {},
   "source": [
    "At a 99% confidence level the worst loss is 5.14% with the portfolio. Clearly, the VaR is higher given that the confidence level is lower. This is rational and therefore it helps understand the process by which the VaR works, given that a higher confidence level will give a higher percentage of loss and a lower confidence level will give a lower percentage of loss."
   ]
  },
  {
   "cell_type": "markdown",
   "id": "716a7a87-afcb-4dfd-9de1-ad9e9eb01341",
   "metadata": {},
   "source": [
    "## 10. VaR for the Next 10 Days\n",
    "\n",
    "If you want to calculate VaR for higher interval then use standard formulea which is :\n",
    "\n",
    "VaR at n days = VaR95 * squareroot ( n days)\n"
   ]
  },
  {
   "cell_type": "code",
   "execution_count": null,
   "id": "e21f81cd-20be-4dd7-a948-9bdfaa7967c7",
   "metadata": {},
   "outputs": [],
   "source": [
    "var99_10days = var99 * np.sqrt(10)\n",
    "var99_10days\n",
    "## >>- 16.28"
   ]
  },
  {
   "cell_type": "markdown",
   "id": "9b0a3155-db8e-4ccb-8708-dc383cbc460a",
   "metadata": {},
   "source": [
    "## 11. Variance- covariance Method\n",
    "\n",
    "Check the condition of normality in your stock returns by\n"
   ]
  },
  {
   "cell_type": "code",
   "execution_count": null,
   "id": "cde7b89e-ed62-45a8-adac-ffc731fe37d7",
   "metadata": {},
   "outputs": [],
   "source": [
    "px.histogram(returns)"
   ]
  },
  {
   "cell_type": "code",
   "execution_count": null,
   "id": "182123da-78b7-42fa-879a-814030c1a972",
   "metadata": {},
   "outputs": [],
   "source": []
  }
 ],
 "metadata": {
  "kernelspec": {
   "display_name": "Python 3 (ipykernel)",
   "language": "python",
   "name": "python3"
  },
  "language_info": {
   "codemirror_mode": {
    "name": "ipython",
    "version": 3
   },
   "file_extension": ".py",
   "mimetype": "text/x-python",
   "name": "python",
   "nbconvert_exporter": "python",
   "pygments_lexer": "ipython3",
   "version": "3.12.1"
  }
 },
 "nbformat": 4,
 "nbformat_minor": 5
}
