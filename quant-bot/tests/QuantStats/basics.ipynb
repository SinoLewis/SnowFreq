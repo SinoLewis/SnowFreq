{
 "cells": [
  {
   "cell_type": "code",
   "execution_count": null,
   "metadata": {},
   "outputs": [
    {
     "name": "stdout",
     "output_type": "stream",
     "text": [
      "Date\n",
      "2012-05-18         NaN\n",
      "2012-05-21   -0.109861\n",
      "2012-05-22   -0.089039\n",
      "2012-05-23    0.032258\n",
      "2012-05-24    0.032188\n",
      "Name: Close, dtype: float64\n",
      "<class 'pandas.core.series.Series'>\n",
      "DatetimeIndex: 3159 entries, 2012-05-18 to 2024-12-06\n",
      "Series name: Close\n",
      "Non-Null Count  Dtype  \n",
      "--------------  -----  \n",
      "3158 non-null   float64\n",
      "dtypes: float64(1)\n",
      "memory usage: 49.4 KB\n",
      "None\n"
     ]
    },
    {
     "data": {
      "text/plain": [
       "0.7583926874158279"
      ]
     },
     "execution_count": 1,
     "metadata": {},
     "output_type": "execute_result"
    }
   ],
   "source": [
    "%matplotlib inline\n",
    "import quantstats as qs\n",
    "\n",
    "# extend pandas functionality with metrics, etc.\n",
    "qs.extend_pandas()\n",
    "\n",
    "# fetch the daily returns for a stock\n",
    "stock = qs.utils.download_returns('META')\n",
    "\n",
    "print(stock.head())\n",
    "print(stock.info())\n",
    "\n",
    "# show sharpe ratio\n",
    "qs.stats.sharpe(stock)\n",
    "\n",
    "# or using extend_pandas() :)\n",
    "stock.sharpe()"
   ]
  },
  {
   "cell_type": "code",
   "execution_count": 18,
   "metadata": {},
   "outputs": [
    {
     "name": "stdout",
     "output_type": "stream",
     "text": [
      "                           Strategy\n",
      "-------------------------  ----------\n",
      "Start Period               2012-05-21\n",
      "End Period                 2024-12-06\n",
      "Risk-Free Rate             0.0%\n",
      "Time in Market             100.0%\n",
      "\n",
      "Cumulative Return          1,536.54%\n",
      "CAGR﹪                     16.62%\n",
      "\n",
      "Sharpe                     0.76\n",
      "Prob. Sharpe Ratio         99.65%\n",
      "Smart Sharpe               0.74\n",
      "Sortino                    1.13\n",
      "Smart Sortino              1.1\n",
      "Sortino/√2                 0.8\n",
      "Smart Sortino/√2           0.78\n",
      "Omega                      1.16\n",
      "\n",
      "Max Drawdown               -76.74%\n",
      "Longest DD Days            863\n",
      "Volatility (ann.)          39.91%\n",
      "Calmar                     0.22\n",
      "Skew                       0.4\n",
      "Kurtosis                   21.09\n",
      "\n",
      "Expected Daily %           0.09%\n",
      "Expected Monthly %         1.86%\n",
      "Expected Yearly %          23.99%\n",
      "Kelly Criterion            7.22%\n",
      "Risk of Ruin               0.0%\n",
      "Daily Value-at-Risk        -4.02%\n",
      "Expected Shortfall (cVaR)  -4.02%\n",
      "\n",
      "Max Consecutive Wins       11\n",
      "Max Consecutive Losses     7\n",
      "Gain/Pain Ratio            0.16\n",
      "Gain/Pain (1M)             0.89\n",
      "\n",
      "Payoff Ratio               1.05\n",
      "Profit Factor              1.16\n",
      "Common Sense Ratio         1.15\n",
      "CPC Index                  0.64\n",
      "Tail Ratio                 0.99\n",
      "Outlier Win Ratio          3.91\n",
      "Outlier Loss Ratio         3.94\n",
      "\n",
      "MTD                        8.61%\n",
      "3M                         20.8%\n",
      "6M                         26.24%\n",
      "YTD                        76.76%\n",
      "1Y                         96.57%\n",
      "3Y (ann.)                  16.83%\n",
      "5Y (ann.)                  16.66%\n",
      "10Y (ann.)                 15.62%\n",
      "All-time (ann.)            16.62%\n",
      "\n",
      "Best Day                   29.61%\n",
      "Worst Day                  -26.39%\n",
      "Best Month                 47.91%\n",
      "Worst Month                -32.63%\n",
      "Best Year                  194.13%\n",
      "Worst Year                 -64.22%\n",
      "\n",
      "Avg. Drawdown              -5.27%\n",
      "Avg. Drawdown Days         32\n",
      "Recovery Factor            4.94\n",
      "Ulcer Index                0.22\n",
      "Serenity Index             1.0\n",
      "\n",
      "Avg. Up Month              8.58%\n",
      "Avg. Down Month            -7.71%\n",
      "Win Days %                 52.57%\n",
      "Win Month %                62.5%\n",
      "Win Quarter %              66.67%\n",
      "Win Year %                 76.92%\n",
      "None\n"
     ]
    }
   ],
   "source": [
    "rp = qs.reports.metrics(stock, mode=\"full\")\n",
    "# qs.reports.metrics(stock, \"SNP\", mode=\"basic\")\n",
    "print(rp)"
   ]
  },
  {
   "cell_type": "code",
   "execution_count": 9,
   "metadata": {},
   "outputs": [
    {
     "name": "stdout",
     "output_type": "stream",
     "text": [
      "None\n"
     ]
    }
   ],
   "source": [
    "print(rp)"
   ]
  }
 ],
 "metadata": {
  "kernelspec": {
   "display_name": "Python 3",
   "language": "python",
   "name": "python3"
  },
  "language_info": {
   "codemirror_mode": {
    "name": "ipython",
    "version": 3
   },
   "file_extension": ".py",
   "mimetype": "text/x-python",
   "name": "python",
   "nbconvert_exporter": "python",
   "pygments_lexer": "ipython3",
   "version": "3.12.1"
  }
 },
 "nbformat": 4,
 "nbformat_minor": 2
}
