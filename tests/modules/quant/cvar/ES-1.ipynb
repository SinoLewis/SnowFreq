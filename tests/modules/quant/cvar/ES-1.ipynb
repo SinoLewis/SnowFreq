{
 "cells": [
  {
   "cell_type": "markdown",
   "metadata": {},
   "source": [
    "# 0. What is CVaR?\n",
    "\n",
    "Conditional Value at Risk (CVaR), also known as Expected Shortfall, estimates the expected loss given that the loss has exceeded the VaR threshold. It offers a more detailed risk assessment by focusing on extreme losses.\n",
    "\n",
    "Calculation Methods\n",
    "\n",
    "    1. Historical Simulation: Similar to VaR but zeroes in on the average of losses beyond the VaR threshold.\n",
    "    2. Variance-Covariance (Parametric) Method: Utilizes the normal distribution properties to estimate CVaR.\n",
    "    3. Monte Carlo Simulation: Extends the Monte Carlo method used in VaR by averaging the tail losses."
   ]
  },
  {
   "cell_type": "markdown",
   "metadata": {},
   "source": [
    "# 1.  Load and Prepare Data"
   ]
  },
  {
   "cell_type": "code",
   "execution_count": null,
   "metadata": {
    "vscode": {
     "languageId": "plaintext"
    }
   },
   "outputs": [],
   "source": [
    "import numpy as np\n",
    "import pandas as pd\n",
    "import matplotlib.pyplot as plt\n",
    "\n",
    "data = pd.read_csv('historical_stock_prices.csv', index_col='Date', parse_dates=True)\n",
    "returns = data['Close'].pct_change().dropna()"
   ]
  },
  {
   "cell_type": "markdown",
   "metadata": {},
   "source": [
    "# 2. Implementing CVaR in Python"
   ]
  },
  {
   "cell_type": "markdown",
   "metadata": {},
   "source": [
    "## Step 1: Identify Losses Beyond VaR"
   ]
  },
  {
   "cell_type": "code",
   "execution_count": null,
   "metadata": {
    "vscode": {
     "languageId": "plaintext"
    }
   },
   "outputs": [],
   "source": [
    "confidence_level = 0.95\n",
    "var_threshold = np.percentile(returns, (1 - confidence_level) * 100)\n",
    "tail_losses = returns[returns < var_threshold]"
   ]
  },
  {
   "cell_type": "markdown",
   "metadata": {},
   "source": [
    "## Step 2: Calculate CVaR"
   ]
  },
  {
   "cell_type": "code",
   "execution_count": null,
   "metadata": {
    "vscode": {
     "languageId": "plaintext"
    }
   },
   "outputs": [],
   "source": [
    "def calc_cvar(tail_losses):\n",
    "    cvar = tail_losses.mean()\n",
    "    print(f\"Conditional Value at Risk (CVaR) at {confidence_level*100}% confidence level is {cvar:.2%}\")\n",
    "\n",
    "    return cvar\n",
    "\n",
    "calc_cvar(tail_losses)"
   ]
  },
  {
   "cell_type": "markdown",
   "metadata": {},
   "source": [
    "## Step 3: Visualizing VaR and CVaR"
   ]
  },
  {
   "cell_type": "code",
   "execution_count": null,
   "metadata": {
    "vscode": {
     "languageId": "plaintext"
    }
   },
   "outputs": [],
   "source": [
    "plt.figure(figsize=(10, 6))\n",
    "plt.hist(returns, bins=50, alpha=0.75, color='blue', edgecolor='black')\n",
    "plt.axvline(x=var, color='red', linestyle='--', label=f'VaR ({confidence_level*100}%)')\n",
    "plt.axvline(x=cvar, color='green', linestyle='--', label=f'CVaR ({confidence_level*100}%)')\n",
    "plt.title('Distribution of Returns with VaR and CVaR')\n",
    "plt.xlabel('Returns')\n",
    "plt.ylabel('Frequency')\n",
    "plt.legend()\n",
    "plt.show()"
   ]
  }
 ],
 "metadata": {
  "kernelspec": {
   "display_name": "Python 3 (ipykernel)",
   "language": "python",
   "name": "python3"
  },
  "language_info": {
   "codemirror_mode": {
    "name": "ipython",
    "version": 3
   },
   "file_extension": ".py",
   "mimetype": "text/x-python",
   "name": "python",
   "nbconvert_exporter": "python",
   "pygments_lexer": "ipython3",
   "version": "3.12.1"
  }
 },
 "nbformat": 4,
 "nbformat_minor": 4
}
