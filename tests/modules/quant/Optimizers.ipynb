{
 "cells": [
  {
   "cell_type": "markdown",
   "metadata": {
    "id": "h0MCr7dpZ9pR"
   },
   "source": [
    "## 1. Installation"
   ]
  },
  {
   "cell_type": "code",
   "execution_count": 1,
   "metadata": {
    "colab": {
     "base_uri": "https://localhost:8080/"
    },
    "executionInfo": {
     "elapsed": 8251,
     "status": "ok",
     "timestamp": 1735677588796,
     "user": {
      "displayName": "Scott West",
      "userId": "01148079787272724627"
     },
     "user_tz": 0
    },
    "id": "nI4eZLfcY_PC",
    "outputId": "7b22ce4c-0f37-4c7b-e387-269c0a3eaddc"
   },
   "outputs": [
    {
     "name": "stdout",
     "output_type": "stream",
     "text": [
      "Collecting PyPortfolioOpt\n",
      "  Downloading pyportfolioopt-1.5.6-py3-none-any.whl.metadata (22 kB)\n",
      "Requirement already satisfied: cvxpy>=1.1.19 in /usr/local/lib/python3.10/dist-packages (from PyPortfolioOpt) (1.6.0)\n",
      "Collecting ecos<3.0.0,>=2.0.14 (from PyPortfolioOpt)\n",
      "  Downloading ecos-2.0.14-cp310-cp310-manylinux_2_17_x86_64.manylinux2014_x86_64.whl.metadata (8.0 kB)\n",
      "Requirement already satisfied: numpy>=1.26.0 in /usr/local/lib/python3.10/dist-packages (from PyPortfolioOpt) (1.26.4)\n",
      "Requirement already satisfied: pandas>=0.19 in /usr/local/lib/python3.10/dist-packages (from PyPortfolioOpt) (2.2.2)\n",
      "Requirement already satisfied: plotly<6.0.0,>=5.0.0 in /usr/local/lib/python3.10/dist-packages (from PyPortfolioOpt) (5.24.1)\n",
      "Requirement already satisfied: scipy>=1.3 in /usr/local/lib/python3.10/dist-packages (from PyPortfolioOpt) (1.13.1)\n",
      "Requirement already satisfied: osqp>=0.6.2 in /usr/local/lib/python3.10/dist-packages (from cvxpy>=1.1.19->PyPortfolioOpt) (0.6.7.post3)\n",
      "Requirement already satisfied: clarabel>=0.5.0 in /usr/local/lib/python3.10/dist-packages (from cvxpy>=1.1.19->PyPortfolioOpt) (0.9.0)\n",
      "Requirement already satisfied: scs>=3.2.4.post1 in /usr/local/lib/python3.10/dist-packages (from cvxpy>=1.1.19->PyPortfolioOpt) (3.2.7)\n",
      "Requirement already satisfied: python-dateutil>=2.8.2 in /usr/local/lib/python3.10/dist-packages (from pandas>=0.19->PyPortfolioOpt) (2.8.2)\n",
      "Requirement already satisfied: pytz>=2020.1 in /usr/local/lib/python3.10/dist-packages (from pandas>=0.19->PyPortfolioOpt) (2024.2)\n",
      "Requirement already satisfied: tzdata>=2022.7 in /usr/local/lib/python3.10/dist-packages (from pandas>=0.19->PyPortfolioOpt) (2024.2)\n",
      "Requirement already satisfied: tenacity>=6.2.0 in /usr/local/lib/python3.10/dist-packages (from plotly<6.0.0,>=5.0.0->PyPortfolioOpt) (9.0.0)\n",
      "Requirement already satisfied: packaging in /usr/local/lib/python3.10/dist-packages (from plotly<6.0.0,>=5.0.0->PyPortfolioOpt) (24.2)\n",
      "Requirement already satisfied: qdldl in /usr/local/lib/python3.10/dist-packages (from osqp>=0.6.2->cvxpy>=1.1.19->PyPortfolioOpt) (0.1.7.post4)\n",
      "Requirement already satisfied: six>=1.5 in /usr/local/lib/python3.10/dist-packages (from python-dateutil>=2.8.2->pandas>=0.19->PyPortfolioOpt) (1.17.0)\n",
      "Downloading pyportfolioopt-1.5.6-py3-none-any.whl (62 kB)\n",
      "\u001b[2K   \u001b[90m━━━━━━━━━━━━━━━━━━━━━━━━━━━━━━━━━━━━━━━━\u001b[0m \u001b[32m62.7/62.7 kB\u001b[0m \u001b[31m3.3 MB/s\u001b[0m eta \u001b[36m0:00:00\u001b[0m\n",
      "\u001b[?25hDownloading ecos-2.0.14-cp310-cp310-manylinux_2_17_x86_64.manylinux2014_x86_64.whl (218 kB)\n",
      "\u001b[2K   \u001b[90m━━━━━━━━━━━━━━━━━━━━━━━━━━━━━━━━━━━━━━━━\u001b[0m \u001b[32m218.9/218.9 kB\u001b[0m \u001b[31m9.0 MB/s\u001b[0m eta \u001b[36m0:00:00\u001b[0m\n",
      "\u001b[?25hInstalling collected packages: ecos, PyPortfolioOpt\n",
      "Successfully installed PyPortfolioOpt-1.5.6 ecos-2.0.14\n",
      "Cloning into 'PyPortfolioOpt'...\n",
      "remote: Enumerating objects: 4385, done.\u001b[K\n",
      "remote: Counting objects: 100% (1107/1107), done.\u001b[K\n",
      "remote: Compressing objects: 100% (246/246), done.\u001b[K\n",
      "remote: Total 4385 (delta 951), reused 861 (delta 861), pack-reused 3278 (from 2)\u001b[K\n",
      "Receiving objects: 100% (4385/4385), 12.20 MiB | 12.51 MiB/s, done.\n",
      "Resolving deltas: 100% (3080/3080), done.\n"
     ]
    }
   ],
   "source": [
    "!pip install PyPortfolioOpt\n",
    "!git clone https://github.com/robertmartin8/PyPortfolioOpt"
   ]
  },
  {
   "cell_type": "markdown",
   "metadata": {
    "id": "oL3SKTrlaOY8"
   },
   "source": [
    "## 2. Processing historical prices\n",
    "\n",
    "2 main types of data required to perform an optimization\n",
    "- `data` is the multi assets prices required to perform M.V.O\n",
    "- `market_prices` is the benchmark market data eg. S&P index"
   ]
  },
  {
   "cell_type": "code",
   "execution_count": 3,
   "metadata": {
    "executionInfo": {
     "elapsed": 405,
     "status": "ok",
     "timestamp": 1735677672755,
     "user": {
      "displayName": "Scott West",
      "userId": "01148079787272724627"
     },
     "user_tz": 0
    },
    "id": "5gjtK3HEadlr"
   },
   "outputs": [],
   "source": [
    "import pandas as pd\n",
    "\n",
    "data = pd.read_csv('PyPortfolioOpt/tests/resources/stock_prices.csv', parse_dates=True, index_col=\"date\")\n",
    "# Sampling data\n",
    "# data = data.iloc[:, :5]\n",
    "# data = data.tail(738)\n",
    "market_prices = pd.read_csv('PyPortfolioOpt/tests/resources/spy_prices.csv', parse_dates=True, index_col=\"date\")\n",
    "\n",
    "close_prices = pd.DataFrame({\n",
    "    asset: data[\"close\"]\n",
    "    for asset, df in data.items()\n",
    "})\n",
    "\n",
    "\n",
    "data.tail(10)"
   ]
  },
  {
   "cell_type": "markdown",
   "metadata": {
    "id": "mIse6Iav8Ygo"
   },
   "source": [
    "## 3. Optimizers"
   ]
  },
  {
   "cell_type": "markdown",
   "metadata": {
    "id": "blpRc1diBL0v"
   },
   "source": [
    "### 3.1 M.V.O Optimizer"
   ]
  },
  {
   "cell_type": "code",
   "execution_count": 4,
   "metadata": {
    "colab": {
     "base_uri": "https://localhost:8080/"
    },
    "executionInfo": {
     "elapsed": 586,
     "status": "ok",
     "timestamp": 1735677688866,
     "user": {
      "displayName": "Scott West",
      "userId": "01148079787272724627"
     },
     "user_tz": 0
    },
    "id": "nG1By6WphCOh",
    "outputId": "82166e01-0f36-475f-ddd4-361d542f9bd0"
   },
   "outputs": [
    {
     "name": "stdout",
     "output_type": "stream",
     "text": [
      "Initial Raw weights \n",
      "\n",
      "OrderedDict([('GOOG', 0.0237526729397794),\n",
      "             ('AAPL', 0.0125639275319764),\n",
      "             ('FB', 0.2778077660738064),\n",
      "             ('BABA', 0.412171688987524),\n",
      "             ('AMZN', 0.0112713791135148),\n",
      "             ('GE', 0.0),\n",
      "             ('AMD', 0.0),\n",
      "             ('WMT', 0.0),\n",
      "             ('BAC', 0.0),\n",
      "             ('GM', 0.0),\n",
      "             ('T', 0.0),\n",
      "             ('UAA', 0.0),\n",
      "             ('SHLD', 0.0),\n",
      "             ('XOM', 0.0),\n",
      "             ('RRC', 0.0),\n",
      "             ('BBY', 0.0019599369127201),\n",
      "             ('MA', 0.2144083174755166),\n",
      "             ('PFE', 0.0445401206358982),\n",
      "             ('JPM', 0.0),\n",
      "             ('SBUX', 0.0015241903292643)])\n",
      "{'AAPL': 2, 'FB': 34, 'BABA': 47, 'GE': 2, 'AMD': 2, 'GM': 1, 'T': 2, 'UAA': 4, 'SHLD': 4, 'RRC': 3, 'BBY': 1, 'MA': 25, 'PFE': 25, 'SBUX': 1}\n"
     ]
    },
    {
     "name": "stderr",
     "output_type": "stream",
     "text": [
      "/usr/local/lib/python3.10/dist-packages/cvxpy/problems/problem.py:1481: UserWarning: Solution may be inaccurate. Try another solver, adjusting the solver settings, or solve with verbose=True for more information.\n",
      "  warnings.warn(\n"
     ]
    },
    {
     "data": {
      "text/plain": [
       "{'AAPL': 2,\n",
       " 'FB': 34,\n",
       " 'BABA': 47,\n",
       " 'GE': 2,\n",
       " 'AMD': 2,\n",
       " 'GM': 1,\n",
       " 'T': 2,\n",
       " 'UAA': 4,\n",
       " 'SHLD': 4,\n",
       " 'RRC': 3,\n",
       " 'BBY': 1,\n",
       " 'MA': 25,\n",
       " 'PFE': 25,\n",
       " 'SBUX': 1}"
      ]
     },
     "execution_count": 4,
     "metadata": {},
     "output_type": "execute_result"
    }
   ],
   "source": [
    "from pypfopt.expected_returns import mean_historical_return\n",
    "from pypfopt.risk_models import CovarianceShrinkage\n",
    "from pypfopt.efficient_frontier import EfficientFrontier\n",
    "from pypfopt import objective_functions, black_litterman, risk_models\n",
    "from pypfopt.discrete_allocation import DiscreteAllocation, get_latest_prices\n",
    "from pypfopt.black_litterman import BlackLittermanModel\n",
    "from pprint import pprint\n",
    "\n",
    "def mvo_optimizer(dfs):\n",
    "  # dfs = multi assets data \n",
    "\n",
    "  mu = mean_historical_return(dfs)\n",
    "  S = CovarianceShrinkage(dfs).ledoit_wolf()\n",
    "\n",
    "  ef = EfficientFrontier(mu, S)\n",
    "\n",
    "  w = ef.max_sharpe()\n",
    "  print('Initial Raw weights \\n')\n",
    "  pprint(w)\n",
    "\n",
    "  # Dealing with many negligible weights\n",
    "  # ef.add_objective(objective_functions.L2_reg, gamma=0.1)\n",
    "  # cleaned_weights = ef.clean_weights()\n",
    "  #ef.save_weights_to_file(\"weights.txt\")  # saves to file\n",
    "  # print('fewer negligible weights than before \\n')\n",
    "  # pprint(cleaned_weights)\n",
    "\n",
    "  # Shorting\n",
    "  #ef.efficient_return(target_return=0.2, market_neutral=True)\n",
    "\n",
    "  # convert these weights into an actual allocation\n",
    "  latest_prices = get_latest_prices(dfs)\n",
    "  da = DiscreteAllocation(w, latest_prices, total_portfolio_value=20000)\n",
    "  allocation, leftover = da.lp_portfolio()\n",
    "  print(allocation)\n",
    "\n",
    "  return allocation\n",
    "\n",
    "mvo_optimizer(dfs=data)"
   ]
  },
  {
   "cell_type": "code",
   "execution_count": 13,
   "metadata": {
    "colab": {
     "base_uri": "https://localhost:8080/"
    },
    "executionInfo": {
     "elapsed": 509,
     "status": "ok",
     "timestamp": 1735678112157,
     "user": {
      "displayName": "Scott West",
      "userId": "01148079787272724627"
     },
     "user_tz": 0
    },
    "id": "3JBN9o5vbJuW",
    "outputId": "c4f66eb9-5274-4a72-fa80-5555c5898fb5"
   },
   "outputs": [
    {
     "name": "stdout",
     "output_type": "stream",
     "text": [
      "OrderedDict([('GOOG', 0.0),\n",
      "             ('AAPL', 1.25547),\n",
      "             ('FB', 0.0),\n",
      "             ('BABA', 0.0),\n",
      "             ('AMZN', 0.0),\n",
      "             ('GE', 0.0),\n",
      "             ('AMD', 0.0),\n",
      "             ('WMT', 0.0),\n",
      "             ('BAC', -0.00212),\n",
      "             ('GM', 0.0),\n",
      "             ('T', 2.83076),\n",
      "             ('UAA', 0.0),\n",
      "             ('SHLD', 0.0),\n",
      "             ('XOM', 0.0),\n",
      "             ('RRC', 0.0),\n",
      "             ('BBY', -1.31329),\n",
      "             ('MA', 0.0),\n",
      "             ('PFE', 0.0),\n",
      "             ('JPM', 0.0),\n",
      "             ('SBUX', -1.77083)])\n",
      "{'AAPL': 36, 'T': 391, 'BAC': -2, 'BBY': -370, 'SBUX': -596}\n"
     ]
    },
    {
     "name": "stderr",
     "output_type": "stream",
     "text": [
      "/usr/local/lib/python3.10/dist-packages/pypfopt/black_litterman.py:258: UserWarning: Running Black-Litterman with no prior.\n",
      "  warnings.warn(\"Running Black-Litterman with no prior.\")\n"
     ]
    }
   ],
   "source": [
    "from pypfopt import black_litterman\n",
    "from pypfopt.black_litterman import BlackLittermanModel\n",
    "from pypfopt.efficient_frontier import EfficientFrontier\n",
    "\n",
    "def blm_optimizer(dfs, mcaps, viewdict):\n",
    "  # dfs = multi assets data \n",
    "  cov_matrix = CovarianceShrinkage(dfs).ledoit_wolf()\n",
    "  bl = BlackLittermanModel(cov_matrix, absolute_views=viewdict)\n",
    "\n",
    "  rets = bl.bl_returns()\n",
    "  ef = EfficientFrontier(rets, cov_matrix)\n",
    "\n",
    "  # OR use return-implied weights\n",
    "  delta = black_litterman.market_implied_risk_aversion(mcaps)\n",
    "  bl.bl_weights(delta)\n",
    "  w = bl.clean_weights()\n",
    "  pprint(w)\n",
    "\n",
    "  latest_prices = get_latest_prices(dfs)\n",
    "  da = DiscreteAllocation(w, latest_prices, total_portfolio_value=20000)\n",
    "  allocation, leftover = da.lp_portfolio()\n",
    "  print(allocation)\n",
    "\n",
    "viewdict = {\"AAPL\": 0.20, \"BBY\": -0.30, \"BAC\": 0, \"SBUX\": -0.2, \"T\": 0.15}\n",
    "blm_optimizer(dfs=data, mcaps=market_prices, viewdict)"
   ]
  }
 ],
 "metadata": {
  "colab": {
   "authorship_tag": "ABX9TyOiKxMlGyUbFBF26Gzc4MZU",
   "provenance": []
  },
  "kernelspec": {
   "display_name": "Python 3",
   "name": "python3"
  },
  "language_info": {
   "name": "python"
  }
 },
 "nbformat": 4,
 "nbformat_minor": 0
}
